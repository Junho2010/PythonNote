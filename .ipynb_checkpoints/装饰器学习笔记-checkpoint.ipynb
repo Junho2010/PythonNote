{
 "cells": [
  {
   "cell_type": "markdown",
   "metadata": {},
   "source": [
    "装饰器是对闭包的一种应用"
   ]
  },
  {
   "cell_type": "code",
   "execution_count": 3,
   "metadata": {
    "collapsed": false
   },
   "outputs": [
    {
     "name": "stdout",
     "output_type": "stream",
     "text": [
      "call function ： my_func.\n",
      "MyFunc\n"
     ]
    }
   ],
   "source": [
    "#一个简单的装饰器函数和被装饰的函数\n",
    "def log(func):#装饰器函数接收函数作为参数，返回的结果也为函数\n",
    "    def printlog(*argvs,**kw):\n",
    "        print(\"call function ： %s.\" % func.__name__)\n",
    "        return func(*argvs,**kw)\n",
    "    return printlog\n",
    "\n",
    "@log\n",
    "def my_func():\n",
    "    print \"MyFunc\"\n",
    "    \n",
    "my_func()"
   ]
  },
  {
   "cell_type": "markdown",
   "metadata": {},
   "source": [
    "装饰器是一种对闭包函数的应用，下面先学习一下什么是闭包函数"
   ]
  },
  {
   "cell_type": "code",
   "execution_count": 12,
   "metadata": {
    "collapsed": false
   },
   "outputs": [
    {
     "name": "stdout",
     "output_type": "stream",
     "text": [
      "pass\n"
     ]
    },
    {
     "data": {
      "text/plain": [
       "(<cell at 0x03BC3DF0: int object at 0x0077ABC0>,)"
      ]
     },
     "execution_count": 12,
     "metadata": {},
     "output_type": "execute_result"
    }
   ],
   "source": [
    "passline = 60\n",
    "def func(val):\n",
    "    if val >= passline:\n",
    "        print(\"pass\")\n",
    "    else:\n",
    "        print(\"failed\")\n",
    "    def in_func():\n",
    "        print(val)\n",
    "    return in_func\n",
    "f = func(89)\n",
    "f.__name__\n",
    "f.__closure__"
   ]
  },
  {
   "cell_type": "code",
   "execution_count": 13,
   "metadata": {
    "collapsed": false
   },
   "outputs": [
    {
     "name": "stdout",
     "output_type": "stream",
     "text": [
      "failed\n",
      "pass\n"
     ]
    }
   ],
   "source": [
    "def func_150(val):\n",
    "    passline = 90\n",
    "    if val >= passline:\n",
    "        print(\"pass\")\n",
    "    else:\n",
    "        print(\"failed\")\n",
    "\n",
    "def func_100(val):\n",
    "    passline = 60\n",
    "    if val >= passline:\n",
    "        print(\"pass\")\n",
    "    else:\n",
    "        print(\"failed\")\n",
    "func_150(89)\n",
    "func_100(89)\n"
   ]
  },
  {
   "cell_type": "code",
   "execution_count": 14,
   "metadata": {
    "collapsed": false
   },
   "outputs": [
    {
     "name": "stdout",
     "output_type": "stream",
     "text": [
      "89 failed\n",
      "89 passed\n"
     ]
    }
   ],
   "source": [
    "'''\n",
    "def func_150(val):\n",
    "    passline = 90\n",
    "    if val >= passline:\n",
    "        print(\"pass\")\n",
    "    else:\n",
    "        print(\"failed\")\n",
    "\n",
    "def func_100(val):\n",
    "    passline = 60\n",
    "    if val >= passline:\n",
    "        print(\"pass\")\n",
    "    else:\n",
    "        print(\"failed\")\n",
    "'''\n",
    "def set_passline(passline):\n",
    "    def cmp(val):\n",
    "        if val>=passline:\n",
    "            print(\"%s passed\" % val )\n",
    "        else:\n",
    "            print(\"%s failed\" % val )\n",
    "    return cmp\n",
    "\n",
    "func_100 = set_passline(60)\n",
    "func_150 = set_passline(90)\n",
    "\n",
    "func_150(89)\n",
    "func_100(89)"
   ]
  },
  {
   "cell_type": "code",
   "execution_count": 27,
   "metadata": {
    "collapsed": false
   },
   "outputs": [
    {
     "name": "stdout",
     "output_type": "stream",
     "text": [
      "(<cell at 0x03C349F0: int object at 0x0077A55C>,)\n",
      "func_100: name[cmp],type[<type 'function'>]\n",
      "call cmp\n",
      "89 passed\n",
      "call cmp\n",
      "89 failed\n"
     ]
    }
   ],
   "source": [
    "def set_passline(passline):\n",
    "    def cmp(val):\n",
    "        print(\"call cmp\")\n",
    "        if val>=passline:\n",
    "            print(\"%s passed\" % val )\n",
    "        else:\n",
    "            print(\"%s failed\" % val )\n",
    "    return cmp\n",
    "\n",
    "func_100 = set_passline(60)\n",
    "func_150 = set_passline(90)\n",
    "\n",
    "print(func_100.__closure__)\n",
    "print(\"%s name[%s],type[%s]\"%(\"func_100:\",func_100.__name__,type(func_100)))\n",
    "func_100(89)\n",
    "set_passline(90)(89)\n"
   ]
  },
  {
   "cell_type": "code",
   "execution_count": 28,
   "metadata": {
    "collapsed": false
   },
   "outputs": [
    {
     "name": "stdout",
     "output_type": "stream",
     "text": [
      "15\n",
      "3\n"
     ]
    }
   ],
   "source": [
    "def my_sum(*arg):\n",
    "    return sum(arg)\n",
    "\n",
    "def my_avg(*arg):\n",
    "    return sum(arg)/len(arg)\n",
    "\n",
    "print(my_sum(1,2,3,4,5))\n",
    "print(my_avg(1,2,3,4,5))\n"
   ]
  },
  {
   "cell_type": "code",
   "execution_count": 29,
   "metadata": {
    "collapsed": false
   },
   "outputs": [
    {
     "name": "stdout",
     "output_type": "stream",
     "text": [
      "15\n"
     ]
    },
    {
     "ename": "ZeroDivisionError",
     "evalue": "integer division or modulo by zero",
     "output_type": "error",
     "traceback": [
      "\u001b[0;31m---------------------------------------------------------------------------\u001b[0m",
      "\u001b[0;31mZeroDivisionError\u001b[0m                         Traceback (most recent call last)",
      "\u001b[0;32m<ipython-input-29-e891e010e3f0>\u001b[0m in \u001b[0;36m<module>\u001b[0;34m()\u001b[0m\n\u001b[1;32m      6\u001b[0m \u001b[1;33m\u001b[0m\u001b[0m\n\u001b[1;32m      7\u001b[0m \u001b[1;32mprint\u001b[0m\u001b[1;33m(\u001b[0m\u001b[0mmy_sum\u001b[0m\u001b[1;33m(\u001b[0m\u001b[1;36m1\u001b[0m\u001b[1;33m,\u001b[0m\u001b[1;36m2\u001b[0m\u001b[1;33m,\u001b[0m\u001b[1;36m3\u001b[0m\u001b[1;33m,\u001b[0m\u001b[1;36m4\u001b[0m\u001b[1;33m,\u001b[0m\u001b[1;36m5\u001b[0m\u001b[1;33m)\u001b[0m\u001b[1;33m)\u001b[0m\u001b[1;33m\u001b[0m\u001b[0m\n\u001b[0;32m----> 8\u001b[0;31m \u001b[1;32mprint\u001b[0m\u001b[1;33m(\u001b[0m\u001b[0mmy_avg\u001b[0m\u001b[1;33m(\u001b[0m\u001b[1;33m)\u001b[0m\u001b[1;33m)\u001b[0m\u001b[1;33m\u001b[0m\u001b[0m\n\u001b[0m",
      "\u001b[0;32m<ipython-input-29-e891e010e3f0>\u001b[0m in \u001b[0;36mmy_avg\u001b[0;34m(*arg)\u001b[0m\n\u001b[1;32m      3\u001b[0m \u001b[1;33m\u001b[0m\u001b[0m\n\u001b[1;32m      4\u001b[0m \u001b[1;32mdef\u001b[0m \u001b[0mmy_avg\u001b[0m\u001b[1;33m(\u001b[0m\u001b[1;33m*\u001b[0m\u001b[0marg\u001b[0m\u001b[1;33m)\u001b[0m\u001b[1;33m:\u001b[0m\u001b[1;33m\u001b[0m\u001b[0m\n\u001b[0;32m----> 5\u001b[0;31m     \u001b[1;32mreturn\u001b[0m \u001b[0msum\u001b[0m\u001b[1;33m(\u001b[0m\u001b[0marg\u001b[0m\u001b[1;33m)\u001b[0m\u001b[1;33m/\u001b[0m\u001b[0mlen\u001b[0m\u001b[1;33m(\u001b[0m\u001b[0marg\u001b[0m\u001b[1;33m)\u001b[0m\u001b[1;33m\u001b[0m\u001b[0m\n\u001b[0m\u001b[1;32m      6\u001b[0m \u001b[1;33m\u001b[0m\u001b[0m\n\u001b[1;32m      7\u001b[0m \u001b[1;32mprint\u001b[0m\u001b[1;33m(\u001b[0m\u001b[0mmy_sum\u001b[0m\u001b[1;33m(\u001b[0m\u001b[1;36m1\u001b[0m\u001b[1;33m,\u001b[0m\u001b[1;36m2\u001b[0m\u001b[1;33m,\u001b[0m\u001b[1;36m3\u001b[0m\u001b[1;33m,\u001b[0m\u001b[1;36m4\u001b[0m\u001b[1;33m,\u001b[0m\u001b[1;36m5\u001b[0m\u001b[1;33m)\u001b[0m\u001b[1;33m)\u001b[0m\u001b[1;33m\u001b[0m\u001b[0m\n",
      "\u001b[0;31mZeroDivisionError\u001b[0m: integer division or modulo by zero"
     ]
    }
   ],
   "source": [
    "def my_sum(*arg):\n",
    "    return sum(arg)\n",
    "\n",
    "def my_avg(*arg):\n",
    "    return sum(arg)/len(arg)\n",
    "\n",
    "print(my_sum(1,2,3,4,5))\n",
    "print(my_avg())\n"
   ]
  },
  {
   "cell_type": "code",
   "execution_count": 30,
   "metadata": {
    "collapsed": false
   },
   "outputs": [
    {
     "ename": "TypeError",
     "evalue": "unsupported operand type(s) for +: 'int' and 'str'",
     "output_type": "error",
     "traceback": [
      "\u001b[0;31m---------------------------------------------------------------------------\u001b[0m",
      "\u001b[0;31mTypeError\u001b[0m                                 Traceback (most recent call last)",
      "\u001b[0;32m<ipython-input-30-d00c3fd75204>\u001b[0m in \u001b[0;36m<module>\u001b[0;34m()\u001b[0m\n\u001b[1;32m      5\u001b[0m     \u001b[1;32mreturn\u001b[0m \u001b[0msum\u001b[0m\u001b[1;33m(\u001b[0m\u001b[0marg\u001b[0m\u001b[1;33m)\u001b[0m\u001b[1;33m/\u001b[0m\u001b[0mlen\u001b[0m\u001b[1;33m(\u001b[0m\u001b[0marg\u001b[0m\u001b[1;33m)\u001b[0m\u001b[1;33m\u001b[0m\u001b[0m\n\u001b[1;32m      6\u001b[0m \u001b[1;33m\u001b[0m\u001b[0m\n\u001b[0;32m----> 7\u001b[0;31m \u001b[1;32mprint\u001b[0m\u001b[1;33m(\u001b[0m\u001b[0mmy_sum\u001b[0m\u001b[1;33m(\u001b[0m\u001b[1;36m1\u001b[0m\u001b[1;33m,\u001b[0m\u001b[1;36m2\u001b[0m\u001b[1;33m,\u001b[0m\u001b[1;36m3\u001b[0m\u001b[1;33m,\u001b[0m\u001b[1;36m4\u001b[0m\u001b[1;33m,\u001b[0m\u001b[1;36m5\u001b[0m\u001b[1;33m,\u001b[0m\u001b[1;34m\"6\"\u001b[0m\u001b[1;33m)\u001b[0m\u001b[1;33m)\u001b[0m\u001b[1;33m\u001b[0m\u001b[0m\n\u001b[0m\u001b[1;32m      8\u001b[0m \u001b[1;32mprint\u001b[0m\u001b[1;33m(\u001b[0m\u001b[0mmy_avg\u001b[0m\u001b[1;33m(\u001b[0m\u001b[1;36m1\u001b[0m\u001b[1;33m)\u001b[0m\u001b[1;33m)\u001b[0m\u001b[1;33m\u001b[0m\u001b[0m\n",
      "\u001b[0;32m<ipython-input-30-d00c3fd75204>\u001b[0m in \u001b[0;36mmy_sum\u001b[0;34m(*arg)\u001b[0m\n\u001b[1;32m      1\u001b[0m \u001b[1;32mdef\u001b[0m \u001b[0mmy_sum\u001b[0m\u001b[1;33m(\u001b[0m\u001b[1;33m*\u001b[0m\u001b[0marg\u001b[0m\u001b[1;33m)\u001b[0m\u001b[1;33m:\u001b[0m\u001b[1;33m\u001b[0m\u001b[0m\n\u001b[0;32m----> 2\u001b[0;31m     \u001b[1;32mreturn\u001b[0m \u001b[0msum\u001b[0m\u001b[1;33m(\u001b[0m\u001b[0marg\u001b[0m\u001b[1;33m)\u001b[0m\u001b[1;33m\u001b[0m\u001b[0m\n\u001b[0m\u001b[1;32m      3\u001b[0m \u001b[1;33m\u001b[0m\u001b[0m\n\u001b[1;32m      4\u001b[0m \u001b[1;32mdef\u001b[0m \u001b[0mmy_avg\u001b[0m\u001b[1;33m(\u001b[0m\u001b[1;33m*\u001b[0m\u001b[0marg\u001b[0m\u001b[1;33m)\u001b[0m\u001b[1;33m:\u001b[0m\u001b[1;33m\u001b[0m\u001b[0m\n\u001b[1;32m      5\u001b[0m     \u001b[1;32mreturn\u001b[0m \u001b[0msum\u001b[0m\u001b[1;33m(\u001b[0m\u001b[0marg\u001b[0m\u001b[1;33m)\u001b[0m\u001b[1;33m/\u001b[0m\u001b[0mlen\u001b[0m\u001b[1;33m(\u001b[0m\u001b[0marg\u001b[0m\u001b[1;33m)\u001b[0m\u001b[1;33m\u001b[0m\u001b[0m\n",
      "\u001b[0;31mTypeError\u001b[0m: unsupported operand type(s) for +: 'int' and 'str'"
     ]
    }
   ],
   "source": [
    "def my_sum(*arg):\n",
    "    return sum(arg)\n",
    "\n",
    "def my_avg(*arg):\n",
    "    return sum(arg)/len(arg)\n",
    "\n",
    "print(my_sum(1,2,3,4,5,\"6\"))\n",
    "print(my_avg(1))\n"
   ]
  },
  {
   "cell_type": "code",
   "execution_count": 31,
   "metadata": {
    "collapsed": false
   },
   "outputs": [
    {
     "name": "stdout",
     "output_type": "stream",
     "text": [
      "0\n",
      "1\n"
     ]
    }
   ],
   "source": [
    "#需求，需要对参数中的长度和数据类型进行一个判断\n",
    "def my_sum(*arg):\n",
    "    if len(arg)==0:\n",
    "        return 0\n",
    "    for val in arg:\n",
    "        if not isinstance(val, int):\n",
    "            return 0\n",
    "        \n",
    "    return sum(arg)\n",
    "\n",
    "def my_avg(*arg):\n",
    "    if len(arg)==0:\n",
    "        return 0\n",
    "    for val in arg:\n",
    "        if not isinstance(val, int):\n",
    "            return 0\n",
    "    return sum(arg)/len(arg)\n",
    "\n",
    "print(my_sum(1,2,3,4,5,\"6\"))\n",
    "print(my_avg(1))\n"
   ]
  },
  {
   "cell_type": "code",
   "execution_count": 38,
   "metadata": {
    "collapsed": false
   },
   "outputs": [
    {
     "name": "stdout",
     "output_type": "stream",
     "text": [
      "in dec\n",
      "in dec\n",
      "------------------------------\n",
      "in in_dec\n",
      "in my_sum\n",
      "15\n",
      "in in_dec\n",
      "in my_avg\n",
      "1\n"
     ]
    }
   ],
   "source": [
    "#对其中重复部分进行优化\n",
    "def my_sum(*arg):\n",
    "    print(\"in my_sum\")\n",
    "    return sum(arg)\n",
    "\n",
    "def my_avg(*arg):\n",
    "    print(\"in my_avg\")\n",
    "    return sum(arg)/len(arg)\n",
    "\n",
    "def dec(func):\n",
    "    print(\"in dec\")\n",
    "    def in_dec(*arg):\n",
    "        print(\"in in_dec\")\n",
    "        if len(arg)==0:\n",
    "            return 0\n",
    "        for val in arg:\n",
    "            if not isinstance(val, int):\n",
    "                return 0\n",
    "        return func(*arg)\n",
    "    return in_dec\n",
    "\n",
    "my_sum = dec(my_sum)\n",
    "my_avg = dec(my_avg)\n",
    "\n",
    "print(\"-\"*30)\n",
    "\n",
    "print(my_sum(1,2,3,4,5))\n",
    "print(my_avg(1))\n"
   ]
  },
  {
   "cell_type": "code",
   "execution_count": 39,
   "metadata": {
    "collapsed": false
   },
   "outputs": [
    {
     "name": "stdout",
     "output_type": "stream",
     "text": [
      "in dec\n",
      "------------------------------\n",
      "in dec\n",
      "------------------------------\n",
      "in in_dec\n",
      "in my_sum\n",
      "15\n",
      "in in_dec\n",
      "in my_avg\n",
      "1\n"
     ]
    }
   ],
   "source": [
    "#使用装饰器语法优化上面的代码\n",
    "\n",
    "\n",
    "def dec(func):\n",
    "    print(\"in dec\")\n",
    "    def in_dec(*arg):\n",
    "        print(\"in in_dec\")\n",
    "        if len(arg)==0:\n",
    "            return 0\n",
    "        for val in arg:\n",
    "            if not isinstance(val, int):\n",
    "                return 0\n",
    "        return func(*arg)\n",
    "    return in_dec\n",
    "\n",
    "@dec\n",
    "def my_sum(*arg):\n",
    "    print(\"in my_sum\")\n",
    "    return sum(arg)\n",
    "\n",
    "print(\"-\"*30)\n",
    "@dec\n",
    "def my_avg(*arg):\n",
    "    print(\"in my_avg\")\n",
    "    return sum(arg)/len(arg)\n",
    "\n",
    "print(\"-\"*30)\n",
    "\n",
    "print(my_sum(1,2,3,4,5))\n",
    "print(my_avg(1))\n"
   ]
  },
  {
   "cell_type": "markdown",
   "metadata": {},
   "source": [
    "装饰器联系作业：\n",
    "1.编写一个装饰器函数，检查用户是否处于登陆状态。如果处于登陆状态，函数正常执行，否则重定向到登陆页面。\n"
   ]
  }
 ],
 "metadata": {
  "anaconda-cloud": {},
  "kernelspec": {
   "display_name": "Python [conda root]",
   "language": "python",
   "name": "conda-root-py"
  },
  "language_info": {
   "codemirror_mode": {
    "name": "ipython",
    "version": 2
   },
   "file_extension": ".py",
   "mimetype": "text/x-python",
   "name": "python",
   "nbconvert_exporter": "python",
   "pygments_lexer": "ipython2",
   "version": "2.7.12"
  }
 },
 "nbformat": 4,
 "nbformat_minor": 1
}
