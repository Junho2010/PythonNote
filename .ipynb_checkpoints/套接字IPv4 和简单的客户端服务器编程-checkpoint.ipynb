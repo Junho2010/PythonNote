{
 "cells": [
  {
   "cell_type": "markdown",
   "metadata": {},
   "source": [
    "# 1 获取设备名和IP信息"
   ]
  },
  {
   "cell_type": "markdown",
   "metadata": {},
   "source": [
    "## 1.1 本地设备名和IP"
   ]
  },
  {
   "cell_type": "markdown",
   "metadata": {},
   "source": [
    "### 原始代码"
   ]
  },
  {
   "cell_type": "code",
   "execution_count": 3,
   "metadata": {
    "collapsed": false
   },
   "outputs": [
    {
     "name": "stdout",
     "output_type": "stream",
     "text": [
      "Host:192.168.0.111\n",
      "Name:GOS-01611050332\n"
     ]
    }
   ],
   "source": [
    "import socket\n",
    "host_name = socket.gethostname()\n",
    "host = socket.gethostbyname(host_name)\n",
    "print(\"Host:%s\"%host)\n",
    "print(\"Name:%s\"%host_name)\n"
   ]
  },
  {
   "cell_type": "markdown",
   "metadata": {},
   "source": [
    "### 优化代码"
   ]
  },
  {
   "cell_type": "code",
   "execution_count": 4,
   "metadata": {
    "collapsed": false
   },
   "outputs": [
    {
     "name": "stdout",
     "output_type": "stream",
     "text": [
      "Host:192.168.0.111\n",
      "Name:GOS-01611050332\n"
     ]
    }
   ],
   "source": [
    "import socket\n",
    "def get_machine_info():\n",
    "    host_name = socket.gethostname()\n",
    "    host = socket.gethostbyname(host_name)\n",
    "    print(\"Host:%s\"%host)\n",
    "    print(\"Name:%s\"%host_name)\n",
    "if __name__==\"__main__\":\n",
    "    get_machine_info()"
   ]
  },
  {
   "cell_type": "markdown",
   "metadata": {},
   "source": [
    "## 1.2 远程设备IP"
   ]
  },
  {
   "cell_type": "code",
   "execution_count": 8,
   "metadata": {
    "collapsed": false
   },
   "outputs": [
    {
     "name": "stdout",
     "output_type": "stream",
     "text": [
      "www.baidu.com's IP is : 180.97.33.108\n"
     ]
    }
   ],
   "source": [
    "import socket\n",
    "def get_remote_machine_info(host_name):\n",
    "    try:\n",
    "        host = socket.gethostbyname(host_name)\n",
    "        print(\"%s's IP is : %s\" %(host_name,host))\n",
    "    except socket.error,err_msg:\n",
    "        print(\"%s : %s\" %(host_name,err_msg))\n",
    "\n",
    "#查询一个存在的域名\n",
    "if __name__==\"__main__\":\n",
    "    get_remote_machine_info(\"www.baidu.com\")"
   ]
  },
  {
   "cell_type": "code",
   "execution_count": 9,
   "metadata": {
    "collapsed": false
   },
   "outputs": [
    {
     "name": "stdout",
     "output_type": "stream",
     "text": [
      "www.bu.com : [Errno 11004] getaddrinfo failed\n"
     ]
    }
   ],
   "source": [
    "import socket\n",
    "def get_remote_machine_info(host_name):\n",
    "    try:\n",
    "        host = socket.gethostbyname(host_name)\n",
    "        print(\"%s's IP is : %s\" %(host_name,host))\n",
    "    except socket.error,err_msg:\n",
    "        print(\"%s : %s\" %(host_name,err_msg))\n",
    "\n",
    "#查询一个不存在的域名\n",
    "if __name__==\"__main__\":\n",
    "    get_remote_machine_info(\"www.bu.com\")"
   ]
  },
  {
   "cell_type": "code",
   "execution_count": null,
   "metadata": {
    "collapsed": true
   },
   "outputs": [],
   "source": []
  }
 ],
 "metadata": {
  "anaconda-cloud": {},
  "kernelspec": {
   "display_name": "Python [conda root]",
   "language": "python",
   "name": "conda-root-py"
  },
  "language_info": {
   "codemirror_mode": {
    "name": "ipython",
    "version": 2
   },
   "file_extension": ".py",
   "mimetype": "text/x-python",
   "name": "python",
   "nbconvert_exporter": "python",
   "pygments_lexer": "ipython2",
   "version": "2.7.12"
  }
 },
 "nbformat": 4,
 "nbformat_minor": 1
}
